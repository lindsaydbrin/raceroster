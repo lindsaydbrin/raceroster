{
 "cells": [
  {
   "cell_type": "markdown",
   "metadata": {},
   "source": [
    "# Web scrape for triathlon results from various websites (Race Roster and Sportstats)\n",
    "\n",
    "Lindsay Brin\n",
    "start 2018 July 6\n",
    "\n",
    "## Updates\n",
    "This version builds on the previous versions by adding a function to read Sportstats data for the Sydenham triathlon.\n",
    "\n",
    "## Previous versions\n",
    "Based on `raceroster_webscrape.ipynb`, started 2018 June 25, which read Race Roster data for Hampton and Rockwood races in 2017 and 2018 (different header formats).\n",
    "...which was based on initial scrape of Hampton Ladies Triathlon 2018 results in `raceroster_webscrape_hampton.pynb`."
   ]
  },
  {
   "cell_type": "markdown",
   "metadata": {},
   "source": [
    "## Notes"
   ]
  },
  {
   "cell_type": "markdown",
   "metadata": {},
   "source": [
    "Adding additional data for raceroster format:\n",
    "\n",
    "* If headers follow the same general approach as previous data:\n",
    "    * Add info to `race_info` dictionary.\n",
    "        * Confirm that URL allows for all data to be shown on that page (e.g., if limit is 500 rows shown, make sure there are not more than 500 participants).\n",
    "    * Add header cleanup to `header_replacement` dictionary as necessary.\n",
    "* If headers follow some new, creative format:\n",
    "    * All bets are off. Figure out if `get_rr_table()` works and then go from there.  Once it works, we should be back in the territory of the previous bullet point."
   ]
  },
  {
   "cell_type": "markdown",
   "metadata": {},
   "source": [
    "## Setup"
   ]
  },
  {
   "cell_type": "markdown",
   "metadata": {},
   "source": [
    "Import libraries:"
   ]
  },
  {
   "cell_type": "code",
   "execution_count": 30,
   "metadata": {
    "collapsed": false,
    "scrolled": true
   },
   "outputs": [],
   "source": [
    "# Import libraries\n",
    "from lxml import html\n",
    "from lxml import etree\n",
    "import requests\n",
    "import pandas as pd\n",
    "import numpy as np\n",
    "from robobrowser import RoboBrowser\n",
    "import re"
   ]
  },
  {
   "cell_type": "markdown",
   "metadata": {},
   "source": [
    "## Read in data as table"
   ]
  },
  {
   "cell_type": "markdown",
   "metadata": {},
   "source": [
    "### Race Roster function\n",
    "\n",
    "Function to get (single) table from website, extract (multi-line) headers and body, and combine as a pandas dataframe:"
   ]
  },
  {
   "cell_type": "code",
   "execution_count": 2,
   "metadata": {},
   "outputs": [],
   "source": [
    "# Headers are only combined if the colspan value in the first row > 1.\n",
    "# This means that for 2018 races where the header value is repeated in both rows, only the first row value is used.  \n",
    "# Specifically, the second row value is set to \"\" because colspan == 1.\n",
    "def get_rr_table(url):\n",
    "    page = requests.get(url)\n",
    "    tree = html.fromstring(page.content)\n",
    "    \n",
    "    for table in tree.xpath('//table[@class=\"results-listing__table table table-hover table-striped\"]'):\n",
    "        # Get both header rows\n",
    "        header1 = [th.text_content().strip().lower() for th in table.xpath('//thead/tr[1]/th')]\n",
    "        header2 = [th.text_content().strip().lower() for th in table.xpath('//thead/tr[2]/th')]\n",
    "        # Get colspan (and rowspan?) attributes/values, then convert instances of None to 1; also, convert to integers\n",
    "        colspan1 = [th.get(\"colspan\") for th in table.xpath('//thead/tr[1]/th')]\n",
    "        colspan1_int = [1 if element == None else int(element) for element in colspan1]\n",
    "        # Make expanded header 1 (repeat elements as necessary)\n",
    "        header1_expanded = [item for item, count in zip(header1, colspan1_int) for i in range(count)]\n",
    "        # Make corrected header 2 (align elements to header 1)\n",
    "        # For each element in colspan1_int, add an empty string if the orignal value was None,\n",
    "        #   and select the appropriate number of elements from header2 if colspan1_int >1.\n",
    "        #   I could have done this as simply appending elements from header2, but I wanted to \n",
    "        #   write it so that it might still make sense with a different race roster header pattern.\n",
    "        header2_expanded = []  # Initialize empty list\n",
    "        strloc = 0  # Initialize counter variable\n",
    "        for i in colspan1_int:\n",
    "            if i == 1:\n",
    "                header2_expanded.append('')\n",
    "            elif i > 1:\n",
    "                header2_expanded.extend(['-' + element for element in header2[strloc:strloc+i]]) # extend concatenates elements from the list, rather than appending a list (as a sub-list)\n",
    "                strloc += i    \n",
    "        # Combine header rows\n",
    "        header = [h1 + h2 for h1, h2 in zip(header1_expanded, header2_expanded)]\n",
    "        # Get body of table; remove white spaces and \\n; only keep the rows that are the right number of elements\n",
    "        data = [[td.text_content() for td in tr.xpath('td')]  \n",
    "                for tr in table.xpath('//tr')]\n",
    "        for lst in np.arange(start = 0, stop = (len(data)), step = 1):\n",
    "            data[lst] = [element.strip() for element in data[lst]]\n",
    "        data = [row for row in data if len(row)==len(header)]\n",
    "        # Convert to pandas dataframe\n",
    "        data = pd.DataFrame(data, columns=header)\n",
    "        return(data)  # Return pandas dataframe"
   ]
  },
  {
   "cell_type": "markdown",
   "metadata": {},
   "source": [
    "Set variables for each race:"
   ]
  },
  {
   "cell_type": "code",
   "execution_count": 3,
   "metadata": {},
   "outputs": [],
   "source": [
    "race_info = {'Hampton2017': {\n",
    "                 'url': 'https://results.raceroster.com/results/sj47pnd6egmunhjt', \n",
    "                 'dfname': 'hampton17sprint', \n",
    "             }, \n",
    "             'Hampton2018': {\n",
    "                 'url': 'https://results.raceroster.com/results/wjvz7sruf3ngamgq', \n",
    "                 'dfname': 'hampton18sprint', \n",
    "             },\n",
    "             'Rockwood2017': {\n",
    "                 'url': 'https://results.raceroster.com/results/7uqq4njwwzqnbn6q', \n",
    "                 'dfname': 'rockwood17sprint',\n",
    "             },\n",
    "             'Rockwood2018': {\n",
    "                 'url': 'https://results.raceroster.com/results/syf4m4gy6sknmzc3?sub_event=13620&query_string=&gender_code=&per_page=500&division=&page=1', \n",
    "                 'dfname': 'rockwood18sprint', \n",
    "             } \n",
    "            }"
   ]
  },
  {
   "cell_type": "markdown",
   "metadata": {},
   "source": [
    "Read tables for the above urls:"
   ]
  },
  {
   "cell_type": "code",
   "execution_count": 4,
   "metadata": {},
   "outputs": [],
   "source": [
    "for race in list(race_info.keys()):\n",
    "    race_info[race]['df'] = get_rr_table(race_info[race]['url'])"
   ]
  },
  {
   "cell_type": "markdown",
   "metadata": {},
   "source": [
    "Check shapes; number of rows is correct. "
   ]
  },
  {
   "cell_type": "code",
   "execution_count": 5,
   "metadata": {},
   "outputs": [
    {
     "name": "stdout",
     "output_type": "stream",
     "text": [
      "Hampton2017: (195, 17)\n",
      "Hampton2018: (217, 12)\n",
      "Rockwood2017: (96, 22)\n",
      "Rockwood2018: (76, 12)\n"
     ]
    }
   ],
   "source": [
    "for race in list(race_info.keys()):\n",
    "    print(race, \": \", race_info[race]['df'].shape, sep = '')"
   ]
  },
  {
   "cell_type": "markdown",
   "metadata": {},
   "source": [
    "### Sportstats function\n",
    "\n",
    "Function to get (single) table from website, extract (multi-line) headers and body, and combine as a pandas dataframe:"
   ]
  },
  {
   "cell_type": "code",
   "execution_count": 6,
   "metadata": {},
   "outputs": [],
   "source": [
    "def get_sportstats_table(url):\n",
    "    page = requests.get(url)\n",
    "    tree = html.fromstring(page.content)\n",
    "\n",
    "    for table in (tree.xpath('//table[@class=\"results overview-result\"]')):\n",
    "        # Get header row\n",
    "        header = [element.text_content().strip().lower() for element in table.xpath('//thead[@id=\"mainForm:dataTable_head\"]/tr/th[@role=\"columnheader\"]')]\n",
    "        # Get body of table; remove white spaces and \\n; only keep the rows that are the right number of elements\n",
    "        # Note that this gets all rows of all tables. I can't seem to only grab the right one.  \n",
    "        #  However, the second table doesn't have the same number of columns, so it isn't included in the df.\n",
    "        data = [[td.text_content() for td in tr.xpath('td')]  \n",
    "                for tr in table.xpath('//tr')]\n",
    "        for lst in np.arange(start = 0, stop = (len(data)), step = 1):\n",
    "            data[lst] = [element.strip() for element in data[lst]]\n",
    "        data = [row for row in data if len(row)==len(header)]\n",
    "        # Convert to pandas dataframe\n",
    "        data = pd.DataFrame(data, columns=header)\n",
    "        return(data)  # Return pandas dataframe"
   ]
  },
  {
   "cell_type": "code",
   "execution_count": 8,
   "metadata": {},
   "outputs": [
    {
     "data": {
      "text/html": [
       "<div>\n",
       "<style scoped>\n",
       "    .dataframe tbody tr th:only-of-type {\n",
       "        vertical-align: middle;\n",
       "    }\n",
       "\n",
       "    .dataframe tbody tr th {\n",
       "        vertical-align: top;\n",
       "    }\n",
       "\n",
       "    .dataframe thead th {\n",
       "        text-align: right;\n",
       "    }\n",
       "</style>\n",
       "<table border=\"1\" class=\"dataframe\">\n",
       "  <thead>\n",
       "    <tr style=\"text-align: right;\">\n",
       "      <th></th>\n",
       "      <th>comp.</th>\n",
       "      <th>view</th>\n",
       "      <th>bib</th>\n",
       "      <th>name</th>\n",
       "      <th>category</th>\n",
       "      <th>rank</th>\n",
       "      <th>gender place</th>\n",
       "      <th>cat. place</th>\n",
       "      <th>swim</th>\n",
       "      <th>bike</th>\n",
       "      <th>run</th>\n",
       "      <th>finish</th>\n",
       "    </tr>\n",
       "  </thead>\n",
       "  <tbody>\n",
       "    <tr>\n",
       "      <th>0</th>\n",
       "      <td></td>\n",
       "      <td></td>\n",
       "      <td>108</td>\n",
       "      <td>Jeff SEABY</td>\n",
       "      <td>M45-49</td>\n",
       "      <td>1</td>\n",
       "      <td>1</td>\n",
       "      <td>1</td>\n",
       "      <td>00:11:06</td>\n",
       "      <td>00:33:40</td>\n",
       "      <td>00:20:20</td>\n",
       "      <td>01:05:05.0</td>\n",
       "    </tr>\n",
       "    <tr>\n",
       "      <th>1</th>\n",
       "      <td></td>\n",
       "      <td></td>\n",
       "      <td>98</td>\n",
       "      <td>Aaron POIRIER</td>\n",
       "      <td>M19-</td>\n",
       "      <td>2</td>\n",
       "      <td>2</td>\n",
       "      <td>1</td>\n",
       "      <td>00:10:00</td>\n",
       "      <td>00:35:03</td>\n",
       "      <td>00:21:57</td>\n",
       "      <td>01:06:57.9</td>\n",
       "    </tr>\n",
       "    <tr>\n",
       "      <th>2</th>\n",
       "      <td></td>\n",
       "      <td></td>\n",
       "      <td>176</td>\n",
       "      <td>Justin JAGER</td>\n",
       "      <td>M30-34</td>\n",
       "      <td>3</td>\n",
       "      <td>3</td>\n",
       "      <td>1</td>\n",
       "      <td>00:11:16</td>\n",
       "      <td>00:33:17</td>\n",
       "      <td>00:25:10</td>\n",
       "      <td>01:09:41.9</td>\n",
       "    </tr>\n",
       "    <tr>\n",
       "      <th>3</th>\n",
       "      <td></td>\n",
       "      <td></td>\n",
       "      <td>119</td>\n",
       "      <td>Nick VANDERSCHOOR</td>\n",
       "      <td>M19-</td>\n",
       "      <td>4</td>\n",
       "      <td>4</td>\n",
       "      <td>2</td>\n",
       "      <td>00:09:04</td>\n",
       "      <td>00:39:34</td>\n",
       "      <td>00:22:28</td>\n",
       "      <td>01:11:04.2</td>\n",
       "    </tr>\n",
       "    <tr>\n",
       "      <th>4</th>\n",
       "      <td></td>\n",
       "      <td></td>\n",
       "      <td>93</td>\n",
       "      <td>Paul MONROE</td>\n",
       "      <td>M60-64</td>\n",
       "      <td>5</td>\n",
       "      <td>5</td>\n",
       "      <td>1</td>\n",
       "      <td>00:11:56</td>\n",
       "      <td>00:35:00</td>\n",
       "      <td>00:24:50</td>\n",
       "      <td>01:11:44.5</td>\n",
       "    </tr>\n",
       "  </tbody>\n",
       "</table>\n",
       "</div>"
      ],
      "text/plain": [
       "  comp. view  bib               name category rank gender place cat. place  \\\n",
       "0             108         Jeff SEABY   M45-49    1            1          1   \n",
       "1              98      Aaron POIRIER     M19-    2            2          1   \n",
       "2             176       Justin JAGER   M30-34    3            3          1   \n",
       "3             119  Nick VANDERSCHOOR     M19-    4            4          2   \n",
       "4              93        Paul MONROE   M60-64    5            5          1   \n",
       "\n",
       "       swim      bike       run      finish  \n",
       "0  00:11:06  00:33:40  00:20:20  01:05:05.0  \n",
       "1  00:10:00  00:35:03  00:21:57  01:06:57.9  \n",
       "2  00:11:16  00:33:17  00:25:10  01:09:41.9  \n",
       "3  00:09:04  00:39:34  00:22:28  01:11:04.2  \n",
       "4  00:11:56  00:35:00  00:24:50  01:11:44.5  "
      ]
     },
     "execution_count": 8,
     "metadata": {},
     "output_type": "execute_result"
    }
   ],
   "source": [
    "get_sportstats_table('https://www.sportstats.ca/display-results.xhtml?raceid=43857&status=results').head()"
   ]
  },
  {
   "cell_type": "markdown",
   "metadata": {},
   "source": [
    "The results table has multiple pages, and they're not defined by different urls."
   ]
  },
  {
   "cell_type": "markdown",
   "metadata": {},
   "source": [
    "How many pages are there?"
   ]
  },
  {
   "cell_type": "code",
   "execution_count": 26,
   "metadata": {},
   "outputs": [
    {
     "data": {
      "text/plain": [
       "[1, 2, 3]"
      ]
     },
     "execution_count": 26,
     "metadata": {},
     "output_type": "execute_result"
    }
   ],
   "source": [
    "page = requests.get(url)\n",
    "tree = html.fromstring(page.content)\n",
    "\n",
    "[int(val) for val in \n",
    " [element.text_content().strip() for element in tree.xpath('//ul[@class = \"pagination pagination-sm\"]/li')] \n",
    " if val]"
   ]
  },
  {
   "cell_type": "code",
   "execution_count": null,
   "metadata": {},
   "outputs": [],
   "source": []
  },
  {
   "cell_type": "markdown",
   "metadata": {},
   "source": [
    "I tried using RoboBrowser to get multiple pages/tabs. Ultimately this didn't work because the link isn't a new URL."
   ]
  },
  {
   "cell_type": "code",
   "execution_count": 9,
   "metadata": {},
   "outputs": [],
   "source": [
    "url = 'https://www.sportstats.ca/display-results.xhtml?raceid=43857&status=results'\n",
    "# Browse to Sportstats page\n",
    "browser = RoboBrowser(history=True)\n",
    "browser.open(url)"
   ]
  },
  {
   "cell_type": "code",
   "execution_count": 37,
   "metadata": {},
   "outputs": [
    {
     "data": {
      "text/plain": [
       "'Braydon BREEZE'"
      ]
     },
     "execution_count": 37,
     "metadata": {},
     "output_type": "execute_result"
    }
   ],
   "source": [
    "browser.parsed.body.find(text=re.compile(r'\\bBraydon\\b'))"
   ]
  },
  {
   "cell_type": "code",
   "execution_count": 49,
   "metadata": {},
   "outputs": [
    {
     "data": {
      "text/plain": [
       "<a class=\"ui-commandlink ui-widget\" href=\"#\" id=\"mainForm:j_idt362:1:j_idt364\" onclick=\"PrimeFaces.ab({s:&quot;mainForm:j_idt362:1:j_idt364&quot;,u:&quot;mainForm:result_table mainForm:pageNav mainForm:eventAthleteDetailsDialog&quot;,onco:function(xhr,status,args){hideDetails('athlete-popup');showDetails('event-popup');scrollToTopOfElement('mainForm\\\\:result_table');;}});return false;\">2</a>"
      ]
     },
     "execution_count": 49,
     "metadata": {},
     "output_type": "execute_result"
    }
   ],
   "source": [
    "nextpage = browser.get_link(text='2')\n",
    "nextpage"
   ]
  },
  {
   "cell_type": "code",
   "execution_count": 45,
   "metadata": {},
   "outputs": [],
   "source": [
    "browser.follow_link(nextpage)"
   ]
  },
  {
   "cell_type": "code",
   "execution_count": 52,
   "metadata": {},
   "outputs": [
    {
     "data": {
      "text/plain": [
       "'Braydon BREEZE'"
      ]
     },
     "execution_count": 52,
     "metadata": {},
     "output_type": "execute_result"
    }
   ],
   "source": [
    "browser.parsed.body.find(text=re.compile(r'\\bBraydon\\b'))"
   ]
  },
  {
   "cell_type": "markdown",
   "metadata": {},
   "source": [
    "## Data cleaning, etc."
   ]
  },
  {
   "cell_type": "markdown",
   "metadata": {},
   "source": [
    "Tasks:\n",
    "* Standardize headers between tables\n",
    "    * The two-row headers for 2017 races add quite a bit of cleanup/replacement here.\n",
    "* Calculate decimal times to do calculations downstream\n",
    "    * This includes renaming original sport columns to include `_hhmmss`\n",
    "* Pull `gender` out of `division`"
   ]
  },
  {
   "cell_type": "markdown",
   "metadata": {},
   "source": [
    "### Header standardization\n",
    "\n",
    "At least for Rockwood and Hampton 2018, the headers are the same for:\n",
    "* place\n",
    "* finish\n",
    "* name\n",
    "* city\n",
    "* no.\n",
    "* swim\n",
    "* bike\n",
    "* run\n",
    "* t1\n",
    "* t2\n",
    "\n",
    "The ones that vary are:\n",
    "* `division` vs. `div`\n",
    "* `division place` vs. `div place`\n",
    "\n",
    "For 2017, there is a lot more cleanup that needs to be done. There are also variables that are not in the 2018 data that I am just not working with for now (e.g., `-rank` and `-place` for the different sports).\n",
    "\n",
    "Logic:\n",
    "* If header contains both `div` and `place`, make it `division place`\n",
    "* If header is `div`, change to `division`\n",
    "* 2017-relevant changes:\n",
    "    * `bib` -> `no.`\n",
    "    * `athlete` -> `name`\n",
    "    * `age place` -> `division place`\n",
    "    * `age group` -> `division`\n",
    "    * `gun time` -> `finish`\n",
    "    * `swim-swim` -> `swim`\n",
    "    * `bike-bike` or `bike-enter2` -> `bike`\n",
    "    * `run-run` or `run-finish` -> `run`\n",
    "    * `t1-exit1` to `t1`\n",
    "    * `t2-exit2` to `t2`"
   ]
  },
  {
   "cell_type": "markdown",
   "metadata": {},
   "source": [
    "Define a function to process (individual) column header names as above; first create dictionary, then define function:"
   ]
  },
  {
   "cell_type": "code",
   "execution_count": 607,
   "metadata": {},
   "outputs": [],
   "source": [
    "# Do the same thing but with a dictionary to set up values to substitute.\n",
    "# Define the dictionary first, and then use it in a function.\n",
    "header_replacement = {\n",
    "    'div place': 'division place',\n",
    "    'div': 'division',\n",
    "    'bib': 'no.',\n",
    "    'athlete': 'name',\n",
    "    'age place': 'division place',\n",
    "    'age group': 'division',\n",
    "    'gun time': 'finish',\n",
    "    'swim-swim': 'swim',\n",
    "    'bike-bike': 'bike',\n",
    "    'bike-enter2': 'bike',\n",
    "    'run-run': 'run',\n",
    "    'run-finish': 'run',\n",
    "    't1-exit1': 't1',\n",
    "    't2-exit2': 't2'\n",
    "}"
   ]
  },
  {
   "cell_type": "code",
   "execution_count": 608,
   "metadata": {},
   "outputs": [],
   "source": [
    "def process_header_names(df):\n",
    "    # get() looks up dictionary value; if not present, returns value listed second\n",
    "    df.columns = [header_replacement.get(element, element) for element in list(df.columns)] \n",
    "    return(df)"
   ]
  },
  {
   "cell_type": "code",
   "execution_count": 609,
   "metadata": {},
   "outputs": [],
   "source": [
    "for race in list(race_info.keys()):\n",
    "    race_info[race]['df'] = process_header_names(race_info[race]['df'])"
   ]
  },
  {
   "cell_type": "markdown",
   "metadata": {},
   "source": [
    "Process both tables (again, this should be done more programmatically when more tables are added):"
   ]
  },
  {
   "cell_type": "markdown",
   "metadata": {},
   "source": [
    "### Add variables: decimal times"
   ]
  },
  {
   "cell_type": "markdown",
   "metadata": {},
   "source": [
    "Define functions to convert times to decimal minutes:"
   ]
  },
  {
   "cell_type": "code",
   "execution_count": 610,
   "metadata": {},
   "outputs": [],
   "source": [
    "def time_split_min(t):\n",
    "    \"\"\"Convert a time in the format hh:mm:ss into total minutes\"\"\"\n",
    "    if t.count(\":\") == 2 and len(t) == 8:\n",
    "        (h, m, s) = t.split(':')\n",
    "    elif t.count(\":\") == 1 and len(t) == 5:\n",
    "        (m, s) = t.split(':')\n",
    "        h = 0\n",
    "    else:\n",
    "        return\n",
    "    result = int(h) * 60 + int(m) + int(s)/60\n",
    "    return(result)"
   ]
  },
  {
   "cell_type": "markdown",
   "metadata": {},
   "source": [
    "Dictionary of replacement column names (`_hhmmss` suffix)"
   ]
  },
  {
   "cell_type": "code",
   "execution_count": 611,
   "metadata": {},
   "outputs": [],
   "source": [
    "sport_col_time_names = {'finish': 'finish_hhmmss', \n",
    "                    'swim': 'swim_hhmmss', \n",
    "                    'bike': 'bike_hhmmss', \n",
    "                    'run': 'run_hhmmss', \n",
    "                    't1': 't1_hhmmss', \n",
    "                    't2': 't2_hhmmss'}"
   ]
  },
  {
   "cell_type": "markdown",
   "metadata": {},
   "source": [
    "Function to rename original columns with `_hhmmss` suffix and add new columns with decimal minutes:"
   ]
  },
  {
   "cell_type": "code",
   "execution_count": 613,
   "metadata": {},
   "outputs": [],
   "source": [
    "def add_decimal_minute_columns(df):\n",
    "    # Add _hhmmss to original names using function above (replace original names with _hhmmss names)\n",
    "    df.columns = [sport_col_time_names.get(element, element) for element in list(df.columns)] \n",
    "    # Add new columns with decimal times\n",
    "    for bare, hhmmss in sport_col_time_names.items():\n",
    "        if hhmmss in df.columns:\n",
    "            df[bare] = [time_split_min(element) for element in df[hhmmss]]\n",
    "    # Return processed dataframe\n",
    "    return(df)"
   ]
  },
  {
   "cell_type": "markdown",
   "metadata": {},
   "source": [
    "Apply above functions to dataframes"
   ]
  },
  {
   "cell_type": "code",
   "execution_count": 614,
   "metadata": {},
   "outputs": [],
   "source": [
    "for race in list(race_info.keys()):\n",
    "    race_info[race]['df'] = add_decimal_minute_columns(race_info[race]['df'])"
   ]
  },
  {
   "cell_type": "markdown",
   "metadata": {},
   "source": [
    "### Get `gender` from `division`"
   ]
  },
  {
   "cell_type": "code",
   "execution_count": 615,
   "metadata": {},
   "outputs": [],
   "source": [
    "def add_gender_from_division(df):\n",
    "    df['gender'] = ['female' if element[0].lower() == 'f' else 'male' for element in df[\"division\"]]"
   ]
  },
  {
   "cell_type": "code",
   "execution_count": 616,
   "metadata": {},
   "outputs": [],
   "source": [
    "for race in list(race_info.keys()):\n",
    "    race_info[race]['df']['gender'] = ['female' if element[0].lower() == 'f' else 'male' for element in race_info[race]['df'][\"division\"]]"
   ]
  },
  {
   "cell_type": "markdown",
   "metadata": {},
   "source": [
    "## Write to file"
   ]
  },
  {
   "cell_type": "code",
   "execution_count": 617,
   "metadata": {},
   "outputs": [],
   "source": [
    "for race in list(race_info.keys()):\n",
    "    race_info[race]['df'].to_csv(''.join(['../Data_output/results_', race_info[race]['dfname'], '.csv']), index = False)"
   ]
  },
  {
   "cell_type": "markdown",
   "metadata": {},
   "source": [
    "## Backup code (in the embarrassing absence of version control...)"
   ]
  },
  {
   "cell_type": "code",
   "execution_count": 599,
   "metadata": {},
   "outputs": [],
   "source": [
    "# # Original version; works when first line of header has all the information I need.\n",
    "# def get_rr_table(url):\n",
    "#     page = requests.get(url)\n",
    "#     tree = html.fromstring(page.content)\n",
    "    \n",
    "#     for table in tree.xpath('//table[@class=\"results-listing__table table table-hover table-striped\"]'):\n",
    "#         # Get first row of header\n",
    "#         # Note that race roster has two rows of the header for the individual sports, \n",
    "#         #   but they're redundant, so I ignore the second.\n",
    "#         #   If the format of the table changed, this could possibly break.\n",
    "#         header = [th.text_content().strip().lower() for th in table.xpath('//thead/tr[1]/th')]\n",
    "#         # Get body of table; remove white spaces and \\n; only keep the rows that are the right number of elements\n",
    "#         data = [[td.text_content() for td in tr.xpath('td')]  \n",
    "#                 for tr in table.xpath('//tr')]\n",
    "#         for lst in np.arange(start = 0, stop = (len(data)), step = 1):\n",
    "#             data[lst] = [element.strip() for element in data[lst]]\n",
    "#         data = [row for row in data if len(row)==len(header)]\n",
    "#         # Convert to pandas dataframe\n",
    "#         data = pd.DataFrame(data, columns=header)\n",
    "#         return(data)  # Return pandas dataframe"
   ]
  },
  {
   "cell_type": "code",
   "execution_count": 55,
   "metadata": {},
   "outputs": [],
   "source": [
    "def thify(value):\n",
    "    lastchar = int('{0}'.format(value)[-1])\n",
    "    if (lastchar == 1):\n",
    "        suffix = 'st'\n",
    "    elif (lastchar == 2):\n",
    "        suffix = 'nd'\n",
    "    elif (lastchar == 3):\n",
    "        suffix = 'rd'\n",
    "    else:\n",
    "        suffix = 'th'\n",
    "    word = '{0}{1}'.format(value, suffix)\n",
    "    return(word)"
   ]
  },
  {
   "cell_type": "code",
   "execution_count": 56,
   "metadata": {},
   "outputs": [
    {
     "data": {
      "text/plain": [
       "'Lindsay Brin (Rockwood 2018): 29th percentile (22 out of 31)'"
      ]
     },
     "execution_count": 56,
     "metadata": {},
     "output_type": "execute_result"
    }
   ],
   "source": [
    "rockwood18sprint = pd.read_csv('../Data_output/results_rockwood18sprint.csv')\n",
    "race_options = {\n",
    "    'Rockwood': {\n",
    "        '2017': [\"rockwood17sprint\"],\n",
    "        '2018': [\"rockwood18sprint\"]\n",
    "    },\n",
    "    'Hampton': {\n",
    "        '2017': [\"hampton17sprint\"],\n",
    "        '2018': [\"hampton18sprint\"]\n",
    "    }\n",
    "}\n",
    "\n",
    "selected_race_left = 'Rockwood'\n",
    "selected_year_left = '2018'\n",
    "df_left = eval(race_options[selected_race_left][selected_year_left][0])\n",
    "\n",
    "selected_athlete_left = 'Lindsay Brin'\n",
    "selected_sport = 'swim'\n",
    "selected_dist_type_left = 'Gender'\n",
    "selected_dist_value_left = 'Female'\n",
    "\n",
    "athlete_time_left = df_left[df_left['name']==selected_athlete_left][selected_sport].values[0]\n",
    "all_times_left = df_left[df_left[selected_dist_type_left.lower()]==selected_dist_value_left.lower()][selected_sport]\n",
    "\n",
    "athlete_rank_left = (all_times_left < athlete_time_left).values.sum() + 1\n",
    "athlete_percentile_left = int(round((1 - athlete_rank_left/len(all_times_left))*100))\n",
    "\n",
    "\"{0} ({1} {2}): {3} percentile ({4} out of {5})\".format(\n",
    "    selected_athlete_left,\n",
    "    selected_race_left,\n",
    "    selected_year_left, \n",
    "    thify(athlete_percentile_left),\n",
    "    athlete_rank_left,\n",
    "    len(all_times_left))"
   ]
  },
  {
   "cell_type": "code",
   "execution_count": null,
   "metadata": {},
   "outputs": [],
   "source": []
  }
 ],
 "metadata": {
  "kernelspec": {
   "display_name": "Python 3",
   "language": "python",
   "name": "python3"
  },
  "language_info": {
   "codemirror_mode": {
    "name": "ipython",
    "version": 3
   },
   "file_extension": ".py",
   "mimetype": "text/x-python",
   "name": "python",
   "nbconvert_exporter": "python",
   "pygments_lexer": "ipython3",
   "version": "3.6.5"
  }
 },
 "nbformat": 4,
 "nbformat_minor": 2
}
