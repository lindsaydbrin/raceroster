{
 "cells": [
  {
   "cell_type": "markdown",
   "metadata": {},
   "source": [
    "# Web scrape for results from the Hampton Ladies Triathlon\n",
    "## From the Race Roster website\n",
    "\n",
    "Lindsay Brin\n",
    "mid-June 2018\n",
    "\n",
    "See `raceroster_webscrape.pynb` for more general code to get results from the Race Roster website."
   ]
  },
  {
   "cell_type": "code",
   "execution_count": 61,
   "metadata": {
    "collapsed": false,
    "scrolled": true
   },
   "outputs": [],
   "source": [
    "# Import libraries\n",
    "from lxml import html\n",
    "from lxml import etree\n",
    "import requests\n",
    "import pandas as pd\n",
    "import numpy as np\n",
    "import matplotlib.pyplot as plt\n",
    "%matplotlib inline\n",
    "import seaborn as sns\n",
    "import plotly.plotly as py"
   ]
  },
  {
   "cell_type": "markdown",
   "metadata": {},
   "source": [
    "## Read Hampton data from Race Roster website"
   ]
  },
  {
   "cell_type": "code",
   "execution_count": 3,
   "metadata": {
    "collapsed": false
   },
   "outputs": [],
   "source": [
    "# Get html\n",
    "raceroster_hampton = \"https://results.raceroster.com/results/wjvz7sruf3ngamgq\"\n",
    "page = requests.get(raceroster_hampton)\n",
    "tree = html.fromstring(page.content)"
   ]
  },
  {
   "cell_type": "markdown",
   "metadata": {},
   "source": [
    "## Process webscrape for Hampton\n",
    "\n",
    "(Rockwood was farther down below, but it was moved to another notebook with more robust code overall.)"
   ]
  },
  {
   "cell_type": "code",
   "execution_count": 3,
   "metadata": {
    "collapsed": false
   },
   "outputs": [],
   "source": [
    "# Hampton processing\n",
    "# Pull out different columns from the table\n",
    "res_place = tree.xpath('//tr/td[1][@*]/text()')\n",
    "res_time_total = tree.xpath('//tr/td[2][@*]/text()')\n",
    "\n",
    "# Note that name has a different path because it's in a link (a href).\n",
    "res_names = tree.xpath('//tr/td[3]/a[@*]/text()')\n",
    "\n",
    "# Back to normal\n",
    "res_city = tree.xpath('//tr/td[4][@*]/text()')\n",
    "res_div = tree.xpath('//tr/td[5][@*]/text()')\n",
    "res_div_place = tree.xpath('//tr/td[6][@*]/text()')\n",
    "res_number = tree.xpath('//tr/td[7][@*]/text()')\n",
    "res_swim = tree.xpath('//tr/td[8][@*]/text()')\n",
    "res_t1 = tree.xpath('//tr/td[9][@*]/text()')\n",
    "res_bike = tree.xpath('//tr/td[10][@*]/text()')\n",
    "res_t2 = tree.xpath('//tr/td[11][@*]/text()')\n",
    "res_run = tree.xpath('//tr/td[12][@*]/text()')"
   ]
  },
  {
   "cell_type": "markdown",
   "metadata": {},
   "source": [
    "Let me check the first few values of each new list."
   ]
  },
  {
   "cell_type": "code",
   "execution_count": 4,
   "metadata": {
    "collapsed": false
   },
   "outputs": [
    {
     "name": "stdout",
     "output_type": "stream",
     "text": [
      "res_place\n",
      "3\n",
      "['\\n1\\n            ', '\\n2\\n            ', '\\n3\\n            ']\n",
      "\n",
      "res_time_total\n",
      "3\n",
      "['\\n01:15:21\\n            ', '\\n01:16:28\\n            ', '\\n01:17:26\\n            ']\n",
      "\n",
      "res_names\n",
      "3\n",
      "['\\nEryn Weldon\\n                ', '\\nCarlie Lemoine\\n                ', '\\nMichaela Kearns\\n                ']\n",
      "\n",
      "res_city\n",
      "3\n",
      "['\\nMoncton\\n            ', '\\nHampton\\n            ', '\\nLower Coverdale\\n            ']\n",
      "\n",
      "res_div\n",
      "3\n",
      "['\\nf20-29\\n            ', '\\nf30-39\\n            ', '\\nf20-29\\n            ']\n",
      "\n",
      "res_div_place\n",
      "3\n",
      "['\\n    1/28\\n            ', '\\n    1/77\\n            ', '\\n    2/28\\n            ']\n",
      "\n",
      "res_number\n",
      "3\n",
      "['\\n245\\n            ', '\\n139\\n            ', '\\n116\\n            ']\n",
      "\n",
      "res_swim\n",
      "3\n",
      "['\\n06:23\\n            ', '\\n08:03\\n            ', '\\n08:48\\n            ']\n",
      "\n",
      "res_t1\n",
      "3\n",
      "['\\n02:26\\n            ', '\\n01:27\\n            ', '\\n01:44\\n            ']\n",
      "\n",
      "res_bike\n",
      "3\n",
      "['\\n39:40\\n            ', '\\n39:47\\n            ', '\\n39:12\\n            ']\n",
      "\n",
      "res_t2\n",
      "3\n",
      "['\\n01:44\\n            ', '\\n01:25\\n            ', '\\n01:32\\n            ']\n",
      "\n",
      "res_run\n",
      "3\n",
      "['\\n25:11\\n            ', '\\n25:50\\n            ', '\\n26:12\\n            ']\n",
      "\n"
     ]
    }
   ],
   "source": [
    "varnames = ['res_place', \n",
    "            'res_time_total', \n",
    "            'res_names', \n",
    "            'res_city', \n",
    "            'res_div', \n",
    "            'res_div_place',\n",
    "            'res_number',\n",
    "            'res_swim',\n",
    "            'res_t1',\n",
    "            'res_bike',\n",
    "            'res_t2',\n",
    "            'res_run']\n",
    "\n",
    "for v in varnames:\n",
    "    print(v)\n",
    "    print(len(globals()[v][0:3]))\n",
    "    print(globals()[v][0:3])\n",
    "    print()"
   ]
  },
  {
   "cell_type": "markdown",
   "metadata": {},
   "source": [
    "I need to clean up each list to remove white space and `\\n`"
   ]
  },
  {
   "cell_type": "code",
   "execution_count": 5,
   "metadata": {
    "collapsed": false
   },
   "outputs": [
    {
     "data": {
      "text/plain": [
       "['1', '2', '3']"
      ]
     },
     "execution_count": 5,
     "metadata": {},
     "output_type": "execute_result"
    }
   ],
   "source": [
    "# [element.strip() for element in res_place][0:4]\n",
    "[element.strip() for element in globals()['res_place']][0:3]"
   ]
  },
  {
   "cell_type": "markdown",
   "metadata": {},
   "source": [
    "But really, I want a dataframe, not a whole bunch of individual lists."
   ]
  },
  {
   "cell_type": "code",
   "execution_count": 6,
   "metadata": {
    "collapsed": false
   },
   "outputs": [],
   "source": [
    "results = pd.DataFrame.from_items([\n",
    "    ('place', [element.strip() for element in globals()['res_place']]),\n",
    "    ('time_total_hhmmss', [element.strip() for element in globals()['res_time_total']]), \n",
    "    ('name', [element.strip() for element in globals()['res_names']]), \n",
    "    ('city', [element.strip() for element in globals()['res_city']]), \n",
    "    ('div', [element.strip() for element in globals()['res_div']]), \n",
    "    ('div_place', [element.strip() for element in globals()['res_div_place']]),\n",
    "    ('number', [element.strip() for element in globals()['res_number']]),\n",
    "    ('swim_mmss', [element.strip() for element in globals()['res_swim']]),\n",
    "    ('t1_mmss', [element.strip() for element in globals()['res_t1']]),\n",
    "    ('bike_mmss', [element.strip() for element in globals()['res_bike']]),\n",
    "    ('t2_mmss', [element.strip() for element in globals()['res_t2']]),\n",
    "    ('run_mmss', [element.strip() for element in globals()['res_run']])\n",
    "])"
   ]
  },
  {
   "cell_type": "code",
   "execution_count": 7,
   "metadata": {
    "collapsed": false
   },
   "outputs": [
    {
     "data": {
      "text/html": [
       "<div>\n",
       "<style scoped>\n",
       "    .dataframe tbody tr th:only-of-type {\n",
       "        vertical-align: middle;\n",
       "    }\n",
       "\n",
       "    .dataframe tbody tr th {\n",
       "        vertical-align: top;\n",
       "    }\n",
       "\n",
       "    .dataframe thead th {\n",
       "        text-align: right;\n",
       "    }\n",
       "</style>\n",
       "<table border=\"1\" class=\"dataframe\">\n",
       "  <thead>\n",
       "    <tr style=\"text-align: right;\">\n",
       "      <th></th>\n",
       "      <th>place</th>\n",
       "      <th>time_total_hhmmss</th>\n",
       "      <th>name</th>\n",
       "      <th>city</th>\n",
       "      <th>div</th>\n",
       "      <th>div_place</th>\n",
       "      <th>number</th>\n",
       "      <th>swim_mmss</th>\n",
       "      <th>t1_mmss</th>\n",
       "      <th>bike_mmss</th>\n",
       "      <th>t2_mmss</th>\n",
       "      <th>run_mmss</th>\n",
       "    </tr>\n",
       "  </thead>\n",
       "  <tbody>\n",
       "    <tr>\n",
       "      <th>0</th>\n",
       "      <td>1</td>\n",
       "      <td>01:15:21</td>\n",
       "      <td>Eryn Weldon</td>\n",
       "      <td>Moncton</td>\n",
       "      <td>f20-29</td>\n",
       "      <td>1/28</td>\n",
       "      <td>245</td>\n",
       "      <td>06:23</td>\n",
       "      <td>02:26</td>\n",
       "      <td>39:40</td>\n",
       "      <td>01:44</td>\n",
       "      <td>25:11</td>\n",
       "    </tr>\n",
       "    <tr>\n",
       "      <th>1</th>\n",
       "      <td>2</td>\n",
       "      <td>01:16:28</td>\n",
       "      <td>Carlie Lemoine</td>\n",
       "      <td>Hampton</td>\n",
       "      <td>f30-39</td>\n",
       "      <td>1/77</td>\n",
       "      <td>139</td>\n",
       "      <td>08:03</td>\n",
       "      <td>01:27</td>\n",
       "      <td>39:47</td>\n",
       "      <td>01:25</td>\n",
       "      <td>25:50</td>\n",
       "    </tr>\n",
       "    <tr>\n",
       "      <th>2</th>\n",
       "      <td>3</td>\n",
       "      <td>01:17:26</td>\n",
       "      <td>Michaela Kearns</td>\n",
       "      <td>Lower Coverdale</td>\n",
       "      <td>f20-29</td>\n",
       "      <td>2/28</td>\n",
       "      <td>116</td>\n",
       "      <td>08:48</td>\n",
       "      <td>01:44</td>\n",
       "      <td>39:12</td>\n",
       "      <td>01:32</td>\n",
       "      <td>26:12</td>\n",
       "    </tr>\n",
       "    <tr>\n",
       "      <th>3</th>\n",
       "      <td>4</td>\n",
       "      <td>01:17:37</td>\n",
       "      <td>Lisanne Maurice</td>\n",
       "      <td>Moncton</td>\n",
       "      <td>f40-49</td>\n",
       "      <td>1/69</td>\n",
       "      <td>158</td>\n",
       "      <td>09:27</td>\n",
       "      <td>01:04</td>\n",
       "      <td>38:42</td>\n",
       "      <td>01:10</td>\n",
       "      <td>27:17</td>\n",
       "    </tr>\n",
       "    <tr>\n",
       "      <th>4</th>\n",
       "      <td>5</td>\n",
       "      <td>01:19:03</td>\n",
       "      <td>Jocelyn LeBlanc</td>\n",
       "      <td>Moncton</td>\n",
       "      <td>f20-29</td>\n",
       "      <td>3/28</td>\n",
       "      <td>135</td>\n",
       "      <td>09:00</td>\n",
       "      <td>01:27</td>\n",
       "      <td>38:32</td>\n",
       "      <td>01:07</td>\n",
       "      <td>28:59</td>\n",
       "    </tr>\n",
       "  </tbody>\n",
       "</table>\n",
       "</div>"
      ],
      "text/plain": [
       "  place time_total_hhmmss             name             city     div div_place  \\\n",
       "0     1          01:15:21      Eryn Weldon          Moncton  f20-29      1/28   \n",
       "1     2          01:16:28   Carlie Lemoine          Hampton  f30-39      1/77   \n",
       "2     3          01:17:26  Michaela Kearns  Lower Coverdale  f20-29      2/28   \n",
       "3     4          01:17:37  Lisanne Maurice          Moncton  f40-49      1/69   \n",
       "4     5          01:19:03  Jocelyn LeBlanc          Moncton  f20-29      3/28   \n",
       "\n",
       "  number swim_mmss t1_mmss bike_mmss t2_mmss run_mmss  \n",
       "0    245     06:23   02:26     39:40   01:44    25:11  \n",
       "1    139     08:03   01:27     39:47   01:25    25:50  \n",
       "2    116     08:48   01:44     39:12   01:32    26:12  \n",
       "3    158     09:27   01:04     38:42   01:10    27:17  \n",
       "4    135     09:00   01:27     38:32   01:07    28:59  "
      ]
     },
     "execution_count": 7,
     "metadata": {},
     "output_type": "execute_result"
    }
   ],
   "source": [
    "results.head()"
   ]
  },
  {
   "cell_type": "markdown",
   "metadata": {},
   "source": [
    "Hooray!!"
   ]
  },
  {
   "cell_type": "code",
   "execution_count": 8,
   "metadata": {
    "collapsed": false
   },
   "outputs": [],
   "source": [
    "def time_split_sec(t):\n",
    "    \"\"\"Convert a time in the format hh:mm:ss into total seconds\"\"\"\n",
    "    if t.count(\":\") == 2 and len(t) == 8:\n",
    "        (h, m, s) = t.split(':')\n",
    "    elif t.count(\":\") == 1 and len(t) == 5:\n",
    "        (m, s) = t.split(':')\n",
    "        h = 0\n",
    "    else:\n",
    "        return\n",
    "    result = int(h) * 3600 + int(m) * 60 + int(s)\n",
    "    return(result)"
   ]
  },
  {
   "cell_type": "code",
   "execution_count": 9,
   "metadata": {
    "collapsed": false
   },
   "outputs": [],
   "source": [
    "# time_split_sec(results['res_swim'][0])"
   ]
  },
  {
   "cell_type": "code",
   "execution_count": 10,
   "metadata": {
    "collapsed": false
   },
   "outputs": [],
   "source": [
    "def time_split_min(t):\n",
    "    \"\"\"Convert a time in the format hh:mm:ss into total minutes\"\"\"\n",
    "    if t.count(\":\") == 2 and len(t) == 8:\n",
    "        (h, m, s) = t.split(':')\n",
    "    elif t.count(\":\") == 1 and len(t) == 5:\n",
    "        (m, s) = t.split(':')\n",
    "        h = 0\n",
    "    else:\n",
    "        return\n",
    "    result = int(h) * 60 + int(m) + int(s)/60\n",
    "    return(result)"
   ]
  },
  {
   "cell_type": "code",
   "execution_count": 11,
   "metadata": {
    "collapsed": false
   },
   "outputs": [],
   "source": [
    "# print(time_split_min(results['res_swim'][0]))\n",
    "# print(time_split_min(results['res_time_total'][0]))"
   ]
  },
  {
   "cell_type": "markdown",
   "metadata": {},
   "source": [
    "Add columns that are the results times in decimal minutes"
   ]
  },
  {
   "cell_type": "code",
   "execution_count": 12,
   "metadata": {
    "collapsed": false
   },
   "outputs": [],
   "source": [
    "results[\"time_total\"] = [time_split_min(element) for element in results['time_total_hhmmss']]\n",
    "results[\"swim\"] = [time_split_min(element) for element in results['swim_mmss']]\n",
    "results[\"bike\"] = [time_split_min(element) for element in results['bike_mmss']]\n",
    "results[\"run\"] = [time_split_min(element) for element in results['run_mmss']]\n",
    "results[\"t1\"] = [time_split_min(element) for element in results['t1_mmss']]\n",
    "results[\"t2\"] = [time_split_min(element) for element in results['t2_mmss']]"
   ]
  },
  {
   "cell_type": "code",
   "execution_count": 13,
   "metadata": {
    "collapsed": false,
    "scrolled": false
   },
   "outputs": [
    {
     "data": {
      "text/html": [
       "<div>\n",
       "<style scoped>\n",
       "    .dataframe tbody tr th:only-of-type {\n",
       "        vertical-align: middle;\n",
       "    }\n",
       "\n",
       "    .dataframe tbody tr th {\n",
       "        vertical-align: top;\n",
       "    }\n",
       "\n",
       "    .dataframe thead th {\n",
       "        text-align: right;\n",
       "    }\n",
       "</style>\n",
       "<table border=\"1\" class=\"dataframe\">\n",
       "  <thead>\n",
       "    <tr style=\"text-align: right;\">\n",
       "      <th></th>\n",
       "      <th>place</th>\n",
       "      <th>time_total_hhmmss</th>\n",
       "      <th>name</th>\n",
       "      <th>city</th>\n",
       "      <th>div</th>\n",
       "      <th>div_place</th>\n",
       "      <th>number</th>\n",
       "      <th>swim_mmss</th>\n",
       "      <th>t1_mmss</th>\n",
       "      <th>bike_mmss</th>\n",
       "      <th>t2_mmss</th>\n",
       "      <th>run_mmss</th>\n",
       "      <th>time_total</th>\n",
       "      <th>swim</th>\n",
       "      <th>bike</th>\n",
       "      <th>run</th>\n",
       "      <th>t1</th>\n",
       "      <th>t2</th>\n",
       "    </tr>\n",
       "  </thead>\n",
       "  <tbody>\n",
       "    <tr>\n",
       "      <th>0</th>\n",
       "      <td>1</td>\n",
       "      <td>01:15:21</td>\n",
       "      <td>Eryn Weldon</td>\n",
       "      <td>Moncton</td>\n",
       "      <td>f20-29</td>\n",
       "      <td>1/28</td>\n",
       "      <td>245</td>\n",
       "      <td>06:23</td>\n",
       "      <td>02:26</td>\n",
       "      <td>39:40</td>\n",
       "      <td>01:44</td>\n",
       "      <td>25:11</td>\n",
       "      <td>75.350000</td>\n",
       "      <td>6.383333</td>\n",
       "      <td>39.666667</td>\n",
       "      <td>25.183333</td>\n",
       "      <td>2.433333</td>\n",
       "      <td>1.733333</td>\n",
       "    </tr>\n",
       "    <tr>\n",
       "      <th>1</th>\n",
       "      <td>2</td>\n",
       "      <td>01:16:28</td>\n",
       "      <td>Carlie Lemoine</td>\n",
       "      <td>Hampton</td>\n",
       "      <td>f30-39</td>\n",
       "      <td>1/77</td>\n",
       "      <td>139</td>\n",
       "      <td>08:03</td>\n",
       "      <td>01:27</td>\n",
       "      <td>39:47</td>\n",
       "      <td>01:25</td>\n",
       "      <td>25:50</td>\n",
       "      <td>76.466667</td>\n",
       "      <td>8.050000</td>\n",
       "      <td>39.783333</td>\n",
       "      <td>25.833333</td>\n",
       "      <td>1.450000</td>\n",
       "      <td>1.416667</td>\n",
       "    </tr>\n",
       "    <tr>\n",
       "      <th>2</th>\n",
       "      <td>3</td>\n",
       "      <td>01:17:26</td>\n",
       "      <td>Michaela Kearns</td>\n",
       "      <td>Lower Coverdale</td>\n",
       "      <td>f20-29</td>\n",
       "      <td>2/28</td>\n",
       "      <td>116</td>\n",
       "      <td>08:48</td>\n",
       "      <td>01:44</td>\n",
       "      <td>39:12</td>\n",
       "      <td>01:32</td>\n",
       "      <td>26:12</td>\n",
       "      <td>77.433333</td>\n",
       "      <td>8.800000</td>\n",
       "      <td>39.200000</td>\n",
       "      <td>26.200000</td>\n",
       "      <td>1.733333</td>\n",
       "      <td>1.533333</td>\n",
       "    </tr>\n",
       "    <tr>\n",
       "      <th>3</th>\n",
       "      <td>4</td>\n",
       "      <td>01:17:37</td>\n",
       "      <td>Lisanne Maurice</td>\n",
       "      <td>Moncton</td>\n",
       "      <td>f40-49</td>\n",
       "      <td>1/69</td>\n",
       "      <td>158</td>\n",
       "      <td>09:27</td>\n",
       "      <td>01:04</td>\n",
       "      <td>38:42</td>\n",
       "      <td>01:10</td>\n",
       "      <td>27:17</td>\n",
       "      <td>77.616667</td>\n",
       "      <td>9.450000</td>\n",
       "      <td>38.700000</td>\n",
       "      <td>27.283333</td>\n",
       "      <td>1.066667</td>\n",
       "      <td>1.166667</td>\n",
       "    </tr>\n",
       "    <tr>\n",
       "      <th>4</th>\n",
       "      <td>5</td>\n",
       "      <td>01:19:03</td>\n",
       "      <td>Jocelyn LeBlanc</td>\n",
       "      <td>Moncton</td>\n",
       "      <td>f20-29</td>\n",
       "      <td>3/28</td>\n",
       "      <td>135</td>\n",
       "      <td>09:00</td>\n",
       "      <td>01:27</td>\n",
       "      <td>38:32</td>\n",
       "      <td>01:07</td>\n",
       "      <td>28:59</td>\n",
       "      <td>79.050000</td>\n",
       "      <td>9.000000</td>\n",
       "      <td>38.533333</td>\n",
       "      <td>28.983333</td>\n",
       "      <td>1.450000</td>\n",
       "      <td>1.116667</td>\n",
       "    </tr>\n",
       "  </tbody>\n",
       "</table>\n",
       "</div>"
      ],
      "text/plain": [
       "  place time_total_hhmmss             name             city     div div_place  \\\n",
       "0     1          01:15:21      Eryn Weldon          Moncton  f20-29      1/28   \n",
       "1     2          01:16:28   Carlie Lemoine          Hampton  f30-39      1/77   \n",
       "2     3          01:17:26  Michaela Kearns  Lower Coverdale  f20-29      2/28   \n",
       "3     4          01:17:37  Lisanne Maurice          Moncton  f40-49      1/69   \n",
       "4     5          01:19:03  Jocelyn LeBlanc          Moncton  f20-29      3/28   \n",
       "\n",
       "  number swim_mmss t1_mmss bike_mmss t2_mmss run_mmss  time_total      swim  \\\n",
       "0    245     06:23   02:26     39:40   01:44    25:11   75.350000  6.383333   \n",
       "1    139     08:03   01:27     39:47   01:25    25:50   76.466667  8.050000   \n",
       "2    116     08:48   01:44     39:12   01:32    26:12   77.433333  8.800000   \n",
       "3    158     09:27   01:04     38:42   01:10    27:17   77.616667  9.450000   \n",
       "4    135     09:00   01:27     38:32   01:07    28:59   79.050000  9.000000   \n",
       "\n",
       "        bike        run        t1        t2  \n",
       "0  39.666667  25.183333  2.433333  1.733333  \n",
       "1  39.783333  25.833333  1.450000  1.416667  \n",
       "2  39.200000  26.200000  1.733333  1.533333  \n",
       "3  38.700000  27.283333  1.066667  1.166667  \n",
       "4  38.533333  28.983333  1.450000  1.116667  "
      ]
     },
     "execution_count": 13,
     "metadata": {},
     "output_type": "execute_result"
    }
   ],
   "source": [
    "results.head()"
   ]
  },
  {
   "cell_type": "code",
   "execution_count": 14,
   "metadata": {
    "collapsed": false
   },
   "outputs": [
    {
     "data": {
      "text/plain": [
       "39.666666666666664"
      ]
     },
     "execution_count": 14,
     "metadata": {},
     "output_type": "execute_result"
    }
   ],
   "source": [
    "results[\"bike\"][0]"
   ]
  },
  {
   "cell_type": "markdown",
   "metadata": {},
   "source": [
    "Write dataset to file so that I can do analysis in a different notebook."
   ]
  },
  {
   "cell_type": "code",
   "execution_count": 15,
   "metadata": {
    "collapsed": false
   },
   "outputs": [],
   "source": [
    "results.to_csv('../Data_output/results_Hampton2018.csv', index = False)"
   ]
  }
 ],
 "metadata": {
  "kernelspec": {
   "display_name": "Python 3",
   "language": "python",
   "name": "python3"
  },
  "language_info": {
   "codemirror_mode": {
    "name": "ipython",
    "version": 3
   },
   "file_extension": ".py",
   "mimetype": "text/x-python",
   "name": "python",
   "nbconvert_exporter": "python",
   "pygments_lexer": "ipython3",
   "version": "3.6.5"
  }
 },
 "nbformat": 4,
 "nbformat_minor": 2
}
